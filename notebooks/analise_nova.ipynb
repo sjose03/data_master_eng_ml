{
 "cells": [
  {
   "cell_type": "code",
   "execution_count": 1,
   "metadata": {},
   "outputs": [],
   "source": [
    "%load_ext autoreload\n",
    "%autoreload 2"
   ]
  },
  {
   "cell_type": "code",
   "execution_count": 2,
   "metadata": {},
   "outputs": [],
   "source": [
    "import pandas as pd\n",
    "import numpy as np\n"
   ]
  },
  {
   "cell_type": "code",
   "execution_count": 190,
   "metadata": {},
   "outputs": [],
   "source": [
    "from data_master_eng_ml.config import (\n",
    "    GAME_INFO_RAW_COLLECTION,\n",
    "    MULTIPLAYER_MODES_RAW_COLLECTION,\n",
    "    INVOLVED_COMPANIES_LIST_RAW_COLLECTION,\n",
    "    INVOLVED_COMPANIES_RAW_COLLECTION,\n",
    "    GAME_RELEASE_DATES_RAW_COLLECTION,\n",
    "    MONGODB_DATABASE_RAW\n",
    ")"
   ]
  },
  {
   "cell_type": "code",
   "execution_count": 3,
   "metadata": {},
   "outputs": [],
   "source": [
    "ano = \"2022\""
   ]
  },
  {
   "cell_type": "code",
   "execution_count": 171,
   "metadata": {},
   "outputs": [],
   "source": [
    "from data_master_eng_ml.transformations.api_transformations import (\n",
    "    batch_fetch_age_classifications\n",
    ")\n",
    "from data_master_eng_ml.utils.helpers import map_age_classifications,generate_dummies,read_data_from_mongodb\n"
   ]
  },
  {
   "cell_type": "code",
   "execution_count": 238,
   "metadata": {},
   "outputs": [],
   "source": [
    "from data_master_eng_ml.dataset import main as main_raw"
   ]
  },
  {
   "cell_type": "code",
   "execution_count": 239,
   "metadata": {},
   "outputs": [],
   "source": [
    "from data_master_eng_ml.features import main as main_silver"
   ]
  },
  {
   "cell_type": "code",
   "execution_count": 191,
   "metadata": {},
   "outputs": [],
   "source": [
    "single = True\n",
    "year = 2022\n",
    "game_id = 311813"
   ]
  },
  {
   "cell_type": "code",
   "execution_count": 241,
   "metadata": {},
   "outputs": [
    {
     "name": "stdout",
     "output_type": "stream",
     "text": [
      "\u001b[32m2024-09-07 22:07:18.272\u001b[0m | \u001b[1mINFO    \u001b[0m | \u001b[36mdata_master_eng_ml.dataset\u001b[0m:\u001b[36mmain\u001b[0m:\u001b[36m134\u001b[0m - \u001b[1mStarting data ingestion for the year: 2022\u001b[0m\n",
      "\u001b[32m2024-09-07 22:07:18.274\u001b[0m | \u001b[1mINFO    \u001b[0m | \u001b[36mdata_master_eng_ml.dataset\u001b[0m:\u001b[36mingest_raw_data\u001b[0m:\u001b[36m50\u001b[0m - \u001b[1mIngesting raw data for the year: 2022\u001b[0m\n",
      "\u001b[32m2024-09-07 22:07:18.274\u001b[0m | \u001b[34m\u001b[1mDEBUG   \u001b[0m | \u001b[36mdata_master_eng_ml.dataset\u001b[0m:\u001b[36mingest_raw_data\u001b[0m:\u001b[36m53\u001b[0m - \u001b[34m\u001b[1mFetching game release dates batch...\u001b[0m\n",
      "\u001b[32m2024-09-07 22:07:18.274\u001b[0m | \u001b[34m\u001b[1mDEBUG   \u001b[0m | \u001b[36mdata_master_eng_ml.transformations.api_raw_data\u001b[0m:\u001b[36mfetch_raw_game_release_dates_batch\u001b[0m:\u001b[36m82\u001b[0m - \u001b[34m\u001b[1mConstructing the query and initiating data fetch...\u001b[0m\n",
      "\u001b[32m2024-09-07 22:07:23.162\u001b[0m | \u001b[1mINFO    \u001b[0m | \u001b[36mdata_master_eng_ml.transformations.api_raw_data\u001b[0m:\u001b[36mfetch_raw_game_release_dates_batch\u001b[0m:\u001b[36m85\u001b[0m - \u001b[1mData fetched successfully.\u001b[0m\n",
      "\u001b[32m2024-09-07 22:07:23.162\u001b[0m | \u001b[34m\u001b[1mDEBUG   \u001b[0m | \u001b[36mdata_master_eng_ml.transformations.api_raw_data\u001b[0m:\u001b[36mfetch_raw_game_release_dates_batch\u001b[0m:\u001b[36m87\u001b[0m - \u001b[34m\u001b[1mReturning the resulting DataFrame.\u001b[0m\n",
      "\u001b[32m2024-09-07 22:07:23.166\u001b[0m | \u001b[34m\u001b[1mDEBUG   \u001b[0m | \u001b[36mdata_master_eng_ml.dataset\u001b[0m:\u001b[36mingest_raw_data\u001b[0m:\u001b[36m61\u001b[0m - \u001b[34m\u001b[1mFetching involved companies batch...\u001b[0m\n",
      "\u001b[32m2024-09-07 22:07:23.166\u001b[0m | \u001b[1mINFO    \u001b[0m | \u001b[36mdata_master_eng_ml.transformations.api_raw_data\u001b[0m:\u001b[36mfetch_raw_involved_companies\u001b[0m:\u001b[36m105\u001b[0m - \u001b[1mFetching involved companies for game ID: 14162\u001b[0m\n",
      "\u001b[32m2024-09-07 22:07:23.166\u001b[0m | \u001b[34m\u001b[1mDEBUG   \u001b[0m | \u001b[36mdata_master_eng_ml.transformations.api_raw_data\u001b[0m:\u001b[36mfetch_raw_involved_companies\u001b[0m:\u001b[36m111\u001b[0m - \u001b[34m\u001b[1mConstructing the query and initiating data fetch...\u001b[0m\n",
      "\u001b[32m2024-09-07 22:07:25.844\u001b[0m | \u001b[1mINFO    \u001b[0m | \u001b[36mdata_master_eng_ml.transformations.api_raw_data\u001b[0m:\u001b[36mfetch_raw_involved_companies\u001b[0m:\u001b[36m114\u001b[0m - \u001b[1mData fetched successfully.\u001b[0m\n",
      "\u001b[32m2024-09-07 22:07:25.845\u001b[0m | \u001b[34m\u001b[1mDEBUG   \u001b[0m | \u001b[36mdata_master_eng_ml.transformations.api_raw_data\u001b[0m:\u001b[36mfetch_raw_involved_companies\u001b[0m:\u001b[36m116\u001b[0m - \u001b[34m\u001b[1mReturning the resulting DataFrame.\u001b[0m\n",
      "\u001b[32m2024-09-07 22:07:25.845\u001b[0m | \u001b[34m\u001b[1mDEBUG   \u001b[0m | \u001b[36mdata_master_eng_ml.dataset\u001b[0m:\u001b[36mingest_raw_data\u001b[0m:\u001b[36m70\u001b[0m - \u001b[34m\u001b[1mFetching detailed companies information...\u001b[0m\n",
      "\u001b[32m2024-09-07 22:07:25.845\u001b[0m | \u001b[1mINFO    \u001b[0m | \u001b[36mdata_master_eng_ml.transformations.api_raw_data\u001b[0m:\u001b[36mfetch_raw_companies_info\u001b[0m:\u001b[36m135\u001b[0m - \u001b[1mFetching information for companies with IDs: 1432\u001b[0m\n",
      "\u001b[32m2024-09-07 22:07:25.846\u001b[0m | \u001b[34m\u001b[1mDEBUG   \u001b[0m | \u001b[36mdata_master_eng_ml.transformations.api_raw_data\u001b[0m:\u001b[36mfetch_raw_companies_info\u001b[0m:\u001b[36m149\u001b[0m - \u001b[34m\u001b[1mConstructing the query and initiating data fetch...\u001b[0m\n",
      "\u001b[32m2024-09-07 22:07:28.888\u001b[0m | \u001b[32m\u001b[1mSUCCESS \u001b[0m | \u001b[36mdata_master_eng_ml.transformations.api_raw_data\u001b[0m:\u001b[36mfetch_raw_companies_info\u001b[0m:\u001b[36m152\u001b[0m - \u001b[32m\u001b[1mData fetched successfully.\u001b[0m\n",
      "\u001b[32m2024-09-07 22:07:28.888\u001b[0m | \u001b[34m\u001b[1mDEBUG   \u001b[0m | \u001b[36mdata_master_eng_ml.transformations.api_raw_data\u001b[0m:\u001b[36mfetch_raw_companies_info\u001b[0m:\u001b[36m155\u001b[0m - \u001b[34m\u001b[1mEnsuring all expected columns are present in the DataFrame.\u001b[0m\n",
      "\u001b[32m2024-09-07 22:07:28.888\u001b[0m | \u001b[34m\u001b[1mDEBUG   \u001b[0m | \u001b[36mdata_master_eng_ml.transformations.api_raw_data\u001b[0m:\u001b[36mfetch_raw_companies_info\u001b[0m:\u001b[36m158\u001b[0m - \u001b[34m\u001b[1mReturning the processed DataFrame.\u001b[0m\n",
      "\u001b[32m2024-09-07 22:07:28.888\u001b[0m | \u001b[34m\u001b[1mDEBUG   \u001b[0m | \u001b[36mdata_master_eng_ml.dataset\u001b[0m:\u001b[36mingest_raw_data\u001b[0m:\u001b[36m74\u001b[0m - \u001b[34m\u001b[1mFetching multiplayer modes batch...\u001b[0m\n",
      "\u001b[32m2024-09-07 22:07:28.888\u001b[0m | \u001b[1mINFO    \u001b[0m | \u001b[36mdata_master_eng_ml.transformations.api_raw_data\u001b[0m:\u001b[36mfetch_raw_multiplayer_modes\u001b[0m:\u001b[36m178\u001b[0m - \u001b[1mFetching multiplayer modes for game ID: 14162\u001b[0m\n",
      "\u001b[32m2024-09-07 22:07:28.888\u001b[0m | \u001b[34m\u001b[1mDEBUG   \u001b[0m | \u001b[36mdata_master_eng_ml.transformations.api_raw_data\u001b[0m:\u001b[36mfetch_raw_multiplayer_modes\u001b[0m:\u001b[36m195\u001b[0m - \u001b[34m\u001b[1mConstructing the query and initiating data fetch...\u001b[0m\n",
      "\u001b[32m2024-09-07 22:07:29.686\u001b[0m | \u001b[1mINFO    \u001b[0m | \u001b[36mdata_master_eng_ml.transformations.api_raw_data\u001b[0m:\u001b[36mfetch_raw_multiplayer_modes\u001b[0m:\u001b[36m198\u001b[0m - \u001b[1mData fetched successfully.\u001b[0m\n",
      "\u001b[32m2024-09-07 22:07:29.687\u001b[0m | \u001b[34m\u001b[1mDEBUG   \u001b[0m | \u001b[36mdata_master_eng_ml.transformations.api_raw_data\u001b[0m:\u001b[36mfetch_raw_multiplayer_modes\u001b[0m:\u001b[36m201\u001b[0m - \u001b[34m\u001b[1mEnsuring all expected columns are present in the DataFrame.\u001b[0m\n",
      "\u001b[32m2024-09-07 22:07:29.687\u001b[0m | \u001b[34m\u001b[1mDEBUG   \u001b[0m | \u001b[36mdata_master_eng_ml.transformations.api_raw_data\u001b[0m:\u001b[36mfetch_raw_multiplayer_modes\u001b[0m:\u001b[36m204\u001b[0m - \u001b[34m\u001b[1mReturning the processed DataFrame.\u001b[0m\n",
      "\u001b[32m2024-09-07 22:07:29.688\u001b[0m | \u001b[34m\u001b[1mDEBUG   \u001b[0m | \u001b[36mdata_master_eng_ml.dataset\u001b[0m:\u001b[36mingest_raw_data\u001b[0m:\u001b[36m78\u001b[0m - \u001b[34m\u001b[1mFetching detailed game information batch...\u001b[0m\n",
      "\u001b[32m2024-09-07 22:07:29.688\u001b[0m | \u001b[1mINFO    \u001b[0m | \u001b[36mdata_master_eng_ml.transformations.api_raw_data\u001b[0m:\u001b[36mfetch_raw_game_info\u001b[0m:\u001b[36m224\u001b[0m - \u001b[1mFetching detailed information for game ID: 14162\u001b[0m\n",
      "\u001b[32m2024-09-07 22:07:29.688\u001b[0m | \u001b[34m\u001b[1mDEBUG   \u001b[0m | \u001b[36mdata_master_eng_ml.transformations.api_raw_data\u001b[0m:\u001b[36mfetch_raw_game_info\u001b[0m:\u001b[36m240\u001b[0m - \u001b[34m\u001b[1mConstructing the query and initiating data fetch...\u001b[0m\n",
      "\u001b[32m2024-09-07 22:07:33.389\u001b[0m | \u001b[1mINFO    \u001b[0m | \u001b[36mdata_master_eng_ml.transformations.api_raw_data\u001b[0m:\u001b[36mfetch_raw_game_info\u001b[0m:\u001b[36m243\u001b[0m - \u001b[1mData fetched successfully.\u001b[0m\n",
      "\u001b[32m2024-09-07 22:07:33.389\u001b[0m | \u001b[34m\u001b[1mDEBUG   \u001b[0m | \u001b[36mdata_master_eng_ml.transformations.api_raw_data\u001b[0m:\u001b[36mfetch_raw_game_info\u001b[0m:\u001b[36m246\u001b[0m - \u001b[34m\u001b[1mEnsuring all expected columns are present in the DataFrame.\u001b[0m\n",
      "\u001b[32m2024-09-07 22:07:33.389\u001b[0m | \u001b[34m\u001b[1mDEBUG   \u001b[0m | \u001b[36mdata_master_eng_ml.transformations.api_raw_data\u001b[0m:\u001b[36mfetch_raw_game_info\u001b[0m:\u001b[36m249\u001b[0m - \u001b[34m\u001b[1mReturning the processed DataFrame.\u001b[0m\n",
      "\u001b[32m2024-09-07 22:07:33.389\u001b[0m | \u001b[1mINFO    \u001b[0m | \u001b[36mdata_master_eng_ml.dataset\u001b[0m:\u001b[36mingest_raw_data\u001b[0m:\u001b[36m82\u001b[0m - \u001b[1mSaving game release dates to MongoDB...\u001b[0m\n"
     ]
    },
    {
     "name": "stderr",
     "output_type": "stream",
     "text": [
      "Uploading to collection game_release_dates_raw: 100%|██████████| 4/4 [00:12<00:00,  3.12s/it]\n"
     ]
    },
    {
     "name": "stdout",
     "output_type": "stream",
     "text": [
      "\u001b[32m2024-09-07 22:07:45.877\u001b[0m | \u001b[1mINFO    \u001b[0m | \u001b[36mdata_master_eng_ml.utils.helpers\u001b[0m:\u001b[36msave_dataframe_to_mongodb\u001b[0m:\u001b[36m49\u001b[0m - \u001b[1mData successfully inserted into MongoDB!\u001b[0m\n",
      "\u001b[32m2024-09-07 22:07:45.879\u001b[0m | \u001b[1mINFO    \u001b[0m | \u001b[36mdata_master_eng_ml.dataset\u001b[0m:\u001b[36mingest_raw_data\u001b[0m:\u001b[36m88\u001b[0m - \u001b[1mSaving companies list data to MongoDB...\u001b[0m\n"
     ]
    },
    {
     "name": "stderr",
     "output_type": "stream",
     "text": [
      "Uploading to collection involved_companies_list_raw: 100%|██████████| 2/2 [00:05<00:00,  2.98s/it]\n"
     ]
    },
    {
     "name": "stdout",
     "output_type": "stream",
     "text": [
      "\u001b[32m2024-09-07 22:07:51.852\u001b[0m | \u001b[1mINFO    \u001b[0m | \u001b[36mdata_master_eng_ml.utils.helpers\u001b[0m:\u001b[36msave_dataframe_to_mongodb\u001b[0m:\u001b[36m49\u001b[0m - \u001b[1mData successfully inserted into MongoDB!\u001b[0m\n",
      "\u001b[32m2024-09-07 22:07:51.854\u001b[0m | \u001b[1mINFO    \u001b[0m | \u001b[36mdata_master_eng_ml.dataset\u001b[0m:\u001b[36mingest_raw_data\u001b[0m:\u001b[36m95\u001b[0m - \u001b[1mSaving companies data to MongoDB...\u001b[0m\n"
     ]
    },
    {
     "name": "stderr",
     "output_type": "stream",
     "text": [
      "Uploading to collection involved_companies_raw: 100%|██████████| 2/2 [00:04<00:00,  2.49s/it]\n"
     ]
    },
    {
     "name": "stdout",
     "output_type": "stream",
     "text": [
      "\u001b[32m2024-09-07 22:07:56.848\u001b[0m | \u001b[1mINFO    \u001b[0m | \u001b[36mdata_master_eng_ml.utils.helpers\u001b[0m:\u001b[36msave_dataframe_to_mongodb\u001b[0m:\u001b[36m49\u001b[0m - \u001b[1mData successfully inserted into MongoDB!\u001b[0m\n",
      "\u001b[32m2024-09-07 22:07:56.853\u001b[0m | \u001b[1mINFO    \u001b[0m | \u001b[36mdata_master_eng_ml.dataset\u001b[0m:\u001b[36mingest_raw_data\u001b[0m:\u001b[36m102\u001b[0m - \u001b[1mSaving multiplayer modes to MongoDB...\u001b[0m\n"
     ]
    },
    {
     "name": "stderr",
     "output_type": "stream",
     "text": [
      "Uploading to collection multiplayer_modes_raw: 100%|██████████| 1/1 [00:01<00:00,  1.01s/it]\n"
     ]
    },
    {
     "name": "stdout",
     "output_type": "stream",
     "text": [
      "\u001b[32m2024-09-07 22:07:57.875\u001b[0m | \u001b[1mINFO    \u001b[0m | \u001b[36mdata_master_eng_ml.utils.helpers\u001b[0m:\u001b[36msave_dataframe_to_mongodb\u001b[0m:\u001b[36m49\u001b[0m - \u001b[1mData successfully inserted into MongoDB!\u001b[0m\n",
      "\u001b[32m2024-09-07 22:07:57.875\u001b[0m | \u001b[1mINFO    \u001b[0m | \u001b[36mdata_master_eng_ml.dataset\u001b[0m:\u001b[36mingest_raw_data\u001b[0m:\u001b[36m111\u001b[0m - \u001b[1mSaving game information to MongoDB...\u001b[0m\n"
     ]
    },
    {
     "name": "stderr",
     "output_type": "stream",
     "text": [
      "Uploading to collection game_info_raw: 100%|██████████| 3/3 [00:06<00:00,  2.20s/it]"
     ]
    },
    {
     "name": "stdout",
     "output_type": "stream",
     "text": [
      "\u001b[32m2024-09-07 22:08:04.504\u001b[0m | \u001b[1mINFO    \u001b[0m | \u001b[36mdata_master_eng_ml.utils.helpers\u001b[0m:\u001b[36msave_dataframe_to_mongodb\u001b[0m:\u001b[36m49\u001b[0m - \u001b[1mData successfully inserted into MongoDB!\u001b[0m\n",
      "\u001b[32m2024-09-07 22:08:04.506\u001b[0m | \u001b[1mINFO    \u001b[0m | \u001b[36mdata_master_eng_ml.dataset\u001b[0m:\u001b[36mingest_raw_data\u001b[0m:\u001b[36m117\u001b[0m - \u001b[1mData ingestion completed successfully.\u001b[0m\n",
      "\u001b[32m2024-09-07 22:08:04.509\u001b[0m | \u001b[32m\u001b[1mSUCCESS \u001b[0m | \u001b[36mdata_master_eng_ml.dataset\u001b[0m:\u001b[36mmain\u001b[0m:\u001b[36m140\u001b[0m - \u001b[32m\u001b[1mProcessing dataset complete.\u001b[0m\n"
     ]
    },
    {
     "name": "stderr",
     "output_type": "stream",
     "text": [
      "\n"
     ]
    }
   ],
   "source": [
    "main_raw(year=year)"
   ]
  },
  {
   "cell_type": "code",
   "execution_count": 242,
   "metadata": {},
   "outputs": [
    {
     "name": "stdout",
     "output_type": "stream",
     "text": [
      "\u001b[32m2024-09-07 22:08:04.538\u001b[0m | \u001b[1mINFO    \u001b[0m | \u001b[36mdata_master_eng_ml.features\u001b[0m:\u001b[36mmain\u001b[0m:\u001b[36m122\u001b[0m - \u001b[1mGenerating features from dataset...\u001b[0m\n",
      "\u001b[32m2024-09-07 22:08:04.538\u001b[0m | \u001b[1mINFO    \u001b[0m | \u001b[36mdata_master_eng_ml.features\u001b[0m:\u001b[36mfeaturization\u001b[0m:\u001b[36m45\u001b[0m - \u001b[1mStarting data featurization for the year: 2022\u001b[0m\n",
      "\u001b[32m2024-09-07 22:08:04.538\u001b[0m | \u001b[34m\u001b[1mDEBUG   \u001b[0m | \u001b[36mdata_master_eng_ml.features\u001b[0m:\u001b[36mfeaturization\u001b[0m:\u001b[36m51\u001b[0m - \u001b[34m\u001b[1mReading multiplayer modes data from MongoDB...\u001b[0m\n",
      "\u001b[32m2024-09-07 22:08:05.773\u001b[0m | \u001b[34m\u001b[1mDEBUG   \u001b[0m | \u001b[36mdata_master_eng_ml.features\u001b[0m:\u001b[36mfeaturization\u001b[0m:\u001b[36m56\u001b[0m - \u001b[34m\u001b[1mReading involved companies list data from MongoDB...\u001b[0m\n",
      "\u001b[32m2024-09-07 22:08:07.826\u001b[0m | \u001b[34m\u001b[1mDEBUG   \u001b[0m | \u001b[36mdata_master_eng_ml.features\u001b[0m:\u001b[36mfeaturization\u001b[0m:\u001b[36m61\u001b[0m - \u001b[34m\u001b[1mReading game release dates data from MongoDB...\u001b[0m\n",
      "\u001b[32m2024-09-07 22:08:09.893\u001b[0m | \u001b[34m\u001b[1mDEBUG   \u001b[0m | \u001b[36mdata_master_eng_ml.features\u001b[0m:\u001b[36mfeaturization\u001b[0m:\u001b[36m67\u001b[0m - \u001b[34m\u001b[1mExtracting features from game release dates data...\u001b[0m\n",
      "\u001b[32m2024-09-07 22:08:09.894\u001b[0m | \u001b[34m\u001b[1mDEBUG   \u001b[0m | \u001b[36mdata_master_eng_ml.transformations.api_feature_data\u001b[0m:\u001b[36mfetch_game_release_dates_feature\u001b[0m:\u001b[36m34\u001b[0m - \u001b[34m\u001b[1mMapping region codes to region names...\u001b[0m\n",
      "\u001b[32m2024-09-07 22:08:09.896\u001b[0m | \u001b[1mINFO    \u001b[0m | \u001b[36mdata_master_eng_ml.transformations.api_feature_data\u001b[0m:\u001b[36mfetch_game_release_dates_feature\u001b[0m:\u001b[36m41\u001b[0m - \u001b[1mRegion names mapped successfully.\u001b[0m\n",
      "\u001b[32m2024-09-07 22:08:09.897\u001b[0m | \u001b[34m\u001b[1mDEBUG   \u001b[0m | \u001b[36mdata_master_eng_ml.transformations.api_feature_data\u001b[0m:\u001b[36mfetch_game_release_dates_feature\u001b[0m:\u001b[36m42\u001b[0m - \u001b[34m\u001b[1mReturning the updated DataFrame.\u001b[0m\n",
      "\u001b[32m2024-09-07 22:08:09.897\u001b[0m | \u001b[34m\u001b[1mDEBUG   \u001b[0m | \u001b[36mdata_master_eng_ml.features\u001b[0m:\u001b[36mfeaturization\u001b[0m:\u001b[36m70\u001b[0m - \u001b[34m\u001b[1mReading involved companies data from MongoDB...\u001b[0m\n",
      "\u001b[32m2024-09-07 22:08:11.925\u001b[0m | \u001b[34m\u001b[1mDEBUG   \u001b[0m | \u001b[36mdata_master_eng_ml.features\u001b[0m:\u001b[36mfeaturization\u001b[0m:\u001b[36m75\u001b[0m - \u001b[34m\u001b[1mExtracting features from companies data...\u001b[0m\n",
      "\u001b[32m2024-09-07 22:08:11.925\u001b[0m | \u001b[34m\u001b[1mDEBUG   \u001b[0m | \u001b[36mdata_master_eng_ml.transformations.api_feature_data\u001b[0m:\u001b[36mfetch_companies_info_features\u001b[0m:\u001b[36m61\u001b[0m - \u001b[34m\u001b[1mStarting to process company information data...\u001b[0m\n",
      "\u001b[32m2024-09-07 22:08:11.936\u001b[0m | \u001b[1mINFO    \u001b[0m | \u001b[36mdata_master_eng_ml.transformations.api_feature_data\u001b[0m:\u001b[36mfetch_companies_info_features\u001b[0m:\u001b[36m66\u001b[0m - \u001b[1mCompany information data processed successfully.\u001b[0m\n",
      "\u001b[32m2024-09-07 22:08:11.936\u001b[0m | \u001b[34m\u001b[1mDEBUG   \u001b[0m | \u001b[36mdata_master_eng_ml.transformations.api_feature_data\u001b[0m:\u001b[36mfetch_companies_info_features\u001b[0m:\u001b[36m67\u001b[0m - \u001b[34m\u001b[1mReturning the processed DataFrame.\u001b[0m\n",
      "\u001b[32m2024-09-07 22:08:11.937\u001b[0m | \u001b[34m\u001b[1mDEBUG   \u001b[0m | \u001b[36mdata_master_eng_ml.features\u001b[0m:\u001b[36mfeaturization\u001b[0m:\u001b[36m78\u001b[0m - \u001b[34m\u001b[1mReading game information data from MongoDB...\u001b[0m\n",
      "\u001b[32m2024-09-07 22:08:13.789\u001b[0m | \u001b[34m\u001b[1mDEBUG   \u001b[0m | \u001b[36mdata_master_eng_ml.features\u001b[0m:\u001b[36mfeaturization\u001b[0m:\u001b[36m83\u001b[0m - \u001b[34m\u001b[1mExtracting features from game information data...\u001b[0m\n",
      "\u001b[32m2024-09-07 22:08:13.790\u001b[0m | \u001b[34m\u001b[1mDEBUG   \u001b[0m | \u001b[36mdata_master_eng_ml.transformations.api_feature_data\u001b[0m:\u001b[36mfetch_game_info_features\u001b[0m:\u001b[36m88\u001b[0m - \u001b[34m\u001b[1mStarting to process game information...\u001b[0m\n",
      "\u001b[32m2024-09-07 22:08:16.056\u001b[0m | \u001b[1mINFO    \u001b[0m | \u001b[36mdata_master_eng_ml.transformations.api_feature_data\u001b[0m:\u001b[36mfetch_game_info_features\u001b[0m:\u001b[36m99\u001b[0m - \u001b[1mGame information processed successfully.\u001b[0m\n",
      "\u001b[32m2024-09-07 22:08:16.057\u001b[0m | \u001b[34m\u001b[1mDEBUG   \u001b[0m | \u001b[36mdata_master_eng_ml.transformations.api_feature_data\u001b[0m:\u001b[36mfetch_game_info_features\u001b[0m:\u001b[36m100\u001b[0m - \u001b[34m\u001b[1mReturning the processed DataFrame.\u001b[0m\n",
      "\u001b[32m2024-09-07 22:08:16.057\u001b[0m | \u001b[34m\u001b[1mDEBUG   \u001b[0m | \u001b[36mdata_master_eng_ml.features\u001b[0m:\u001b[36mfeaturization\u001b[0m:\u001b[36m87\u001b[0m - \u001b[34m\u001b[1mCompleting companies features...\u001b[0m\n",
      "\u001b[32m2024-09-07 22:08:16.057\u001b[0m | \u001b[34m\u001b[1mDEBUG   \u001b[0m | \u001b[36mdata_master_eng_ml.transformations.api_feature_data\u001b[0m:\u001b[36mcomplete_companies_features\u001b[0m:\u001b[36m123\u001b[0m - \u001b[34m\u001b[1mStarting to join company features...\u001b[0m\n",
      "\u001b[32m2024-09-07 22:08:16.059\u001b[0m | \u001b[1mINFO    \u001b[0m | \u001b[36mdata_master_eng_ml.transformations.api_feature_data\u001b[0m:\u001b[36mcomplete_companies_features\u001b[0m:\u001b[36m136\u001b[0m - \u001b[1mCompany features joined successfully.\u001b[0m\n",
      "\u001b[32m2024-09-07 22:08:16.059\u001b[0m | \u001b[34m\u001b[1mDEBUG   \u001b[0m | \u001b[36mdata_master_eng_ml.transformations.api_feature_data\u001b[0m:\u001b[36mcomplete_companies_features\u001b[0m:\u001b[36m137\u001b[0m - \u001b[34m\u001b[1mReturning the merged DataFrame.\u001b[0m\n",
      "\u001b[32m2024-09-07 22:08:16.059\u001b[0m | \u001b[34m\u001b[1mDEBUG   \u001b[0m | \u001b[36mdata_master_eng_ml.features\u001b[0m:\u001b[36mfeaturization\u001b[0m:\u001b[36m94\u001b[0m - \u001b[34m\u001b[1mMerging all game information into a final DataFrame...\u001b[0m\n",
      "\u001b[32m2024-09-07 22:08:16.059\u001b[0m | \u001b[1mINFO    \u001b[0m | \u001b[36mdata_master_eng_ml.transformations.api_feature_data\u001b[0m:\u001b[36mcomplete_game_infos\u001b[0m:\u001b[36m164\u001b[0m - \u001b[1mStarting to merge game information...\u001b[0m\n",
      "\u001b[32m2024-09-07 22:08:16.061\u001b[0m | \u001b[34m\u001b[1mDEBUG   \u001b[0m | \u001b[36mdata_master_eng_ml.transformations.api_feature_data\u001b[0m:\u001b[36mcomplete_game_infos\u001b[0m:\u001b[36m174\u001b[0m - \u001b[34m\u001b[1mMerged company and game release data.\u001b[0m\n",
      "\u001b[32m2024-09-07 22:08:16.062\u001b[0m | \u001b[34m\u001b[1mDEBUG   \u001b[0m | \u001b[36mdata_master_eng_ml.transformations.api_feature_data\u001b[0m:\u001b[36mcomplete_game_infos\u001b[0m:\u001b[36m185\u001b[0m - \u001b[34m\u001b[1mMerged with multiplayer mode data.\u001b[0m\n",
      "\u001b[32m2024-09-07 22:08:16.064\u001b[0m | \u001b[34m\u001b[1mDEBUG   \u001b[0m | \u001b[36mdata_master_eng_ml.transformations.api_feature_data\u001b[0m:\u001b[36mcomplete_game_infos\u001b[0m:\u001b[36m200\u001b[0m - \u001b[34m\u001b[1mCombined all data into the final DataFrame.\u001b[0m\n",
      "\u001b[32m2024-09-07 22:08:16.077\u001b[0m | \u001b[34m\u001b[1mDEBUG   \u001b[0m | \u001b[36mdata_master_eng_ml.transformations.api_feature_data\u001b[0m:\u001b[36mcomplete_game_infos\u001b[0m:\u001b[36m207\u001b[0m - \u001b[34m\u001b[1mGenerated dummy variables for categorical data.\u001b[0m\n",
      "\u001b[32m2024-09-07 22:08:16.079\u001b[0m | \u001b[1mINFO    \u001b[0m | \u001b[36mdata_master_eng_ml.transformations.api_feature_data\u001b[0m:\u001b[36mcomplete_game_infos\u001b[0m:\u001b[36m213\u001b[0m - \u001b[1mFinal game information DataFrame created successfully.\u001b[0m\n",
      "\u001b[32m2024-09-07 22:08:16.079\u001b[0m | \u001b[34m\u001b[1mDEBUG   \u001b[0m | \u001b[36mdata_master_eng_ml.transformations.api_feature_data\u001b[0m:\u001b[36mcomplete_game_infos\u001b[0m:\u001b[36m214\u001b[0m - \u001b[34m\u001b[1mReturning the final processed DataFrame.\u001b[0m\n",
      "\u001b[32m2024-09-07 22:08:16.079\u001b[0m | \u001b[1mINFO    \u001b[0m | \u001b[36mdata_master_eng_ml.features\u001b[0m:\u001b[36mfeaturization\u001b[0m:\u001b[36m102\u001b[0m - \u001b[1mData featurization completed successfully.\u001b[0m\n",
      "\u001b[32m2024-09-07 22:08:16.079\u001b[0m | \u001b[34m\u001b[1mDEBUG   \u001b[0m | \u001b[36mdata_master_eng_ml.features\u001b[0m:\u001b[36mfeaturization\u001b[0m:\u001b[36m104\u001b[0m - \u001b[34m\u001b[1mSaving the final DataFrame to MongoDB...\u001b[0m\n"
     ]
    },
    {
     "name": "stderr",
     "output_type": "stream",
     "text": [
      "Uploading to collection cleaned_games_info: 100%|██████████| 2/2 [00:03<00:00,  1.76s/it]"
     ]
    },
    {
     "name": "stdout",
     "output_type": "stream",
     "text": [
      "\u001b[32m2024-09-07 22:08:19.611\u001b[0m | \u001b[1mINFO    \u001b[0m | \u001b[36mdata_master_eng_ml.utils.helpers\u001b[0m:\u001b[36msave_dataframe_to_mongodb\u001b[0m:\u001b[36m49\u001b[0m - \u001b[1mData successfully inserted into MongoDB!\u001b[0m\n",
      "\u001b[32m2024-09-07 22:08:19.613\u001b[0m | \u001b[1mINFO    \u001b[0m | \u001b[36mdata_master_eng_ml.features\u001b[0m:\u001b[36mfeaturization\u001b[0m:\u001b[36m108\u001b[0m - \u001b[1mFinal DataFrame saved to MongoDB successfully.\u001b[0m\n",
      "\u001b[32m2024-09-07 22:08:19.618\u001b[0m | \u001b[32m\u001b[1mSUCCESS \u001b[0m | \u001b[36mdata_master_eng_ml.features\u001b[0m:\u001b[36mmain\u001b[0m:\u001b[36m127\u001b[0m - \u001b[32m\u001b[1mFeatures generation complete.\u001b[0m\n"
     ]
    },
    {
     "name": "stderr",
     "output_type": "stream",
     "text": [
      "\n"
     ]
    }
   ],
   "source": [
    "main_silver(year=year)"
   ]
  },
  {
   "cell_type": "code",
   "execution_count": 198,
   "metadata": {},
   "outputs": [],
   "source": [
    "query = {\"dat_ref\": year}"
   ]
  },
  {
   "cell_type": "code",
   "execution_count": null,
   "metadata": {},
   "outputs": [],
   "source": []
  },
  {
   "cell_type": "code",
   "execution_count": 121,
   "metadata": {},
   "outputs": [
    {
     "name": "stdout",
     "output_type": "stream",
     "text": [
      "\u001b[32m2024-09-07 19:33:57.374\u001b[0m | \u001b[1mINFO    \u001b[0m | \u001b[36mdata_master_eng_ml.transformations.api_raw_data\u001b[0m:\u001b[36mfetch_raw_game_release_dates_single\u001b[0m:\u001b[36m41\u001b[0m - \u001b[1mFetching release dates for game ID: 311813\u001b[0m\n",
      "\u001b[32m2024-09-07 19:33:57.377\u001b[0m | \u001b[34m\u001b[1mDEBUG   \u001b[0m | \u001b[36mdata_master_eng_ml.transformations.api_raw_data\u001b[0m:\u001b[36mfetch_raw_game_release_dates_single\u001b[0m:\u001b[36m58\u001b[0m - \u001b[34m\u001b[1mConstructing the query and initiating data fetch...\u001b[0m\n",
      "\u001b[32m2024-09-07 19:33:57.899\u001b[0m | \u001b[1mINFO    \u001b[0m | \u001b[36mdata_master_eng_ml.transformations.api_raw_data\u001b[0m:\u001b[36mfetch_raw_game_release_dates_single\u001b[0m:\u001b[36m61\u001b[0m - \u001b[1mData fetched successfully.\u001b[0m\n",
      "\u001b[32m2024-09-07 19:33:57.899\u001b[0m | \u001b[34m\u001b[1mDEBUG   \u001b[0m | \u001b[36mdata_master_eng_ml.transformations.api_raw_data\u001b[0m:\u001b[36mfetch_raw_game_release_dates_single\u001b[0m:\u001b[36m63\u001b[0m - \u001b[34m\u001b[1mReturning the resulting DataFrame.\u001b[0m\n"
     ]
    }
   ],
   "source": [
    "data_frame_games_find_raw_single = fetch_raw_game_release_dates_single(game_id=game_id)"
   ]
  },
  {
   "cell_type": "code",
   "execution_count": 130,
   "metadata": {},
   "outputs": [],
   "source": [
    "games_id_batch = list(set(data_frame_games_find_raw_batch[\"game\"].to_list()))"
   ]
  },
  {
   "cell_type": "code",
   "execution_count": 131,
   "metadata": {},
   "outputs": [],
   "source": [
    "games_id_list_batch = \",\".join(map(str, games_id_batch))"
   ]
  },
  {
   "cell_type": "code",
   "execution_count": 125,
   "metadata": {},
   "outputs": [],
   "source": [
    "games_id_single = list(set(data_frame_games_find_raw_single[\"game\"].to_list()))"
   ]
  },
  {
   "cell_type": "code",
   "execution_count": 126,
   "metadata": {},
   "outputs": [],
   "source": [
    "games_id_list_single = \",\".join(map(str, games_id_single))"
   ]
  },
  {
   "cell_type": "code",
   "execution_count": 137,
   "metadata": {},
   "outputs": [
    {
     "name": "stdout",
     "output_type": "stream",
     "text": [
      "\u001b[32m2024-09-07 19:41:25.416\u001b[0m | \u001b[1mINFO    \u001b[0m | \u001b[36mdata_master_eng_ml.transformations.api_raw_data\u001b[0m:\u001b[36mfetch_raw_involved_companies\u001b[0m:\u001b[36m121\u001b[0m - \u001b[1mFetching involved companies for game ID:\u001b[0m\n",
      "\u001b[32m2024-09-07 19:41:25.416\u001b[0m | \u001b[34m\u001b[1mDEBUG   \u001b[0m | \u001b[36mdata_master_eng_ml.transformations.api_raw_data\u001b[0m:\u001b[36mfetch_raw_involved_companies\u001b[0m:\u001b[36m127\u001b[0m - \u001b[34m\u001b[1mConstructing the query and initiating data fetch...\u001b[0m\n",
      "\u001b[32m2024-09-07 19:41:26.316\u001b[0m | \u001b[1mINFO    \u001b[0m | \u001b[36mdata_master_eng_ml.transformations.api_raw_data\u001b[0m:\u001b[36mfetch_raw_involved_companies\u001b[0m:\u001b[36m130\u001b[0m - \u001b[1mData fetched successfully.\u001b[0m\n",
      "\u001b[32m2024-09-07 19:41:26.317\u001b[0m | \u001b[34m\u001b[1mDEBUG   \u001b[0m | \u001b[36mdata_master_eng_ml.transformations.api_raw_data\u001b[0m:\u001b[36mfetch_raw_involved_companies\u001b[0m:\u001b[36m132\u001b[0m - \u001b[34m\u001b[1mReturning the resulting DataFrame.\u001b[0m\n"
     ]
    }
   ],
   "source": [
    "data_frame_companies_find_raw_single = fetch_raw_involved_companies(games_id_list_single)\n",
    "data_frame_companies_find_raw_single\n",
    "company_id_list_single = list(set(data_frame_companies_find_raw_single[\"company\"].to_list()))\n"
   ]
  },
  {
   "cell_type": "code",
   "execution_count": 146,
   "metadata": {},
   "outputs": [
    {
     "name": "stdout",
     "output_type": "stream",
     "text": [
      "\u001b[32m2024-09-07 19:48:39.101\u001b[0m | \u001b[1mINFO    \u001b[0m | \u001b[36mdata_master_eng_ml.transformations.api_raw_data\u001b[0m:\u001b[36mfetch_raw_multiplayer_modes\u001b[0m:\u001b[36m194\u001b[0m - \u001b[1mFetching multiplayer modes for game ID: 311813\u001b[0m\n",
      "\u001b[32m2024-09-07 19:48:39.102\u001b[0m | \u001b[34m\u001b[1mDEBUG   \u001b[0m | \u001b[36mdata_master_eng_ml.transformations.api_raw_data\u001b[0m:\u001b[36mfetch_raw_multiplayer_modes\u001b[0m:\u001b[36m211\u001b[0m - \u001b[34m\u001b[1mConstructing the query and initiating data fetch...\u001b[0m\n",
      "\u001b[32m2024-09-07 19:48:39.477\u001b[0m | \u001b[1mINFO    \u001b[0m | \u001b[36mdata_master_eng_ml.transformations.api_raw_data\u001b[0m:\u001b[36mfetch_raw_multiplayer_modes\u001b[0m:\u001b[36m214\u001b[0m - \u001b[1mData fetched successfully.\u001b[0m\n",
      "\u001b[32m2024-09-07 19:48:39.477\u001b[0m | \u001b[34m\u001b[1mDEBUG   \u001b[0m | \u001b[36mdata_master_eng_ml.transformations.api_raw_data\u001b[0m:\u001b[36mfetch_raw_multiplayer_modes\u001b[0m:\u001b[36m217\u001b[0m - \u001b[34m\u001b[1mEnsuring all expected columns are present in the DataFrame.\u001b[0m\n",
      "\u001b[32m2024-09-07 19:48:39.480\u001b[0m | \u001b[34m\u001b[1mDEBUG   \u001b[0m | \u001b[36mdata_master_eng_ml.transformations.api_raw_data\u001b[0m:\u001b[36mfetch_raw_multiplayer_modes\u001b[0m:\u001b[36m220\u001b[0m - \u001b[34m\u001b[1mReturning the processed DataFrame.\u001b[0m\n"
     ]
    },
    {
     "data": {
      "text/html": [
       "<div>\n",
       "<style scoped>\n",
       "    .dataframe tbody tr th:only-of-type {\n",
       "        vertical-align: middle;\n",
       "    }\n",
       "\n",
       "    .dataframe tbody tr th {\n",
       "        vertical-align: top;\n",
       "    }\n",
       "\n",
       "    .dataframe thead th {\n",
       "        text-align: right;\n",
       "    }\n",
       "</style>\n",
       "<table border=\"1\" class=\"dataframe\">\n",
       "  <thead>\n",
       "    <tr style=\"text-align: right;\">\n",
       "      <th></th>\n",
       "      <th>campaigncoop</th>\n",
       "      <th>game</th>\n",
       "      <th>lancoop</th>\n",
       "      <th>offlinecoop</th>\n",
       "      <th>offlinecoopmax</th>\n",
       "      <th>offlinemax</th>\n",
       "      <th>onlinecoop</th>\n",
       "      <th>onlinecoopmax</th>\n",
       "      <th>onlinemax</th>\n",
       "      <th>splitscreen</th>\n",
       "    </tr>\n",
       "  </thead>\n",
       "  <tbody>\n",
       "  </tbody>\n",
       "</table>\n",
       "</div>"
      ],
      "text/plain": [
       "Empty DataFrame\n",
       "Columns: [campaigncoop, game, lancoop, offlinecoop, offlinecoopmax, offlinemax, onlinecoop, onlinecoopmax, onlinemax, splitscreen]\n",
       "Index: []"
      ]
     },
     "execution_count": 146,
     "metadata": {},
     "output_type": "execute_result"
    }
   ],
   "source": [
    "data_frame_multiplayer_modes_raw_single = fetch_raw_multiplayer_modes(games_id_list_single)\n",
    "data_frame_multiplayer_modes_raw_single"
   ]
  },
  {
   "cell_type": "code",
   "execution_count": null,
   "metadata": {},
   "outputs": [],
   "source": []
  },
  {
   "cell_type": "code",
   "execution_count": 57,
   "metadata": {},
   "outputs": [],
   "source": [
    "data_frame_games = fetch_game_info(games_id_list)"
   ]
  }
 ],
 "metadata": {
  "kernelspec": {
   "display_name": "venv_twitch",
   "language": "python",
   "name": "python3"
  },
  "language_info": {
   "codemirror_mode": {
    "name": "ipython",
    "version": 3
   },
   "file_extension": ".py",
   "mimetype": "text/x-python",
   "name": "python",
   "nbconvert_exporter": "python",
   "pygments_lexer": "ipython3",
   "version": "3.12.4"
  }
 },
 "nbformat": 4,
 "nbformat_minor": 2
}
