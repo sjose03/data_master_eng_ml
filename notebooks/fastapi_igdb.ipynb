{
 "cells": [
  {
   "cell_type": "code",
   "execution_count": 3,
   "metadata": {},
   "outputs": [
    {
     "data": {
      "text/plain": [
       "True"
      ]
     },
     "execution_count": 3,
     "metadata": {},
     "output_type": "execute_result"
    }
   ],
   "source": [
    "import os\n",
    "from dotenv import load_dotenv\n",
    "import pandas as pd\n",
    "import requests\n",
    "import numpy as np\n",
    "# Carregando as variáveis de ambiente do arquivo .env\n",
    "load_dotenv()"
   ]
  },
  {
   "cell_type": "code",
   "execution_count": 4,
   "metadata": {},
   "outputs": [
    {
     "name": "stderr",
     "output_type": "stream",
     "text": [
      "\u001b[32m2024-09-07 15:21:59.367\u001b[0m | \u001b[1mINFO    \u001b[0m | \u001b[36mdata_master_eng_ml.config\u001b[0m:\u001b[36m<module>\u001b[0m:\u001b[36m11\u001b[0m - \u001b[1mPROJ_ROOT path is: /Users/josepaulo/data_master_eng_ml\u001b[0m\n"
     ]
    }
   ],
   "source": [
    "from data_master_eng_ml.utils.twitch_api import build_query,fetch_data_with_pagination"
   ]
  },
  {
   "cell_type": "code",
   "execution_count": 5,
   "metadata": {},
   "outputs": [],
   "source": [
    "URL_TWITCH_BASE = \"https://api.igdb.com/v4\""
   ]
  },
  {
   "cell_type": "code",
   "execution_count": 6,
   "metadata": {},
   "outputs": [
    {
     "name": "stdout",
     "output_type": "stream",
     "text": [
      "Token expirado ou inexistente. Obtendo um novo...\n",
      "Novo token obtido com sucesso: {'access_token': '0q188uygfzsgk0sac7vtlv5gt3n7m6', 'expires_in': 5180311, 'token_type': 'bearer'}\n"
     ]
    }
   ],
   "source": [
    "from data_master_eng_ml.utils.mappings import (\n",
    "    region_mapping_inverted,\n",
    "    plataform_mapping,\n",
    "    player_perspectives_mapping,\n",
    "    genres_mapping,\n",
    "    game_modes_mapping,\n",
    "    age_rating_mapping,\n",
    "    age_order\n",
    ")"
   ]
  },
  {
   "cell_type": "code",
   "execution_count": 7,
   "metadata": {},
   "outputs": [],
   "source": [
    "game_id = 311813"
   ]
  },
  {
   "cell_type": "code",
   "execution_count": 9,
   "metadata": {},
   "outputs": [],
   "source": [
    "# Exemplo de uso\n",
    "url = f\"{URL_TWITCH_BASE}/release_dates\"\n",
    "\n",
    "# Define os campos a serem selecionados\n",
    "fields = [\n",
    "    \"category\",\n",
    "    \"created_at\",\n",
    "    \"date\",\n",
    "    \"game\",\n",
    "    \"human\",\n",
    "    \"platform\",\n",
    "    \"region\",\n",
    "    \"status\",\n",
    "    \"updated_at\",\n",
    "    \"y\",\n",
    "]\n",
    "\n",
    "# Define os filtros a serem aplicados\n",
    "filters = {\"game\": f\"= {game_id}\",}\n",
    "\n",
    "# Chamada da função com paginação\n",
    "data_frame_games_find = fetch_data_with_pagination(url, build_query, fields, filters)\n",
    "data_frame_games_find[\"region_name\"] = data_frame_games_find[\"region\"].map(\n",
    "    region_mapping_inverted\n",
    ")\n"
   ]
  },
  {
   "cell_type": "code",
   "execution_count": 10,
   "metadata": {},
   "outputs": [],
   "source": [
    "# Exemplo de uso\n",
    "url = f\"{URL_TWITCH_BASE}/involved_companies\"\n",
    "\n",
    "# Define os campos a serem selecionados\n",
    "fields = [\"*\"]\n",
    "# Define os filtros a serem aplicados\n",
    "filters = {\n",
    "    \"game\": f\"= ({game_id})\",\n",
    "}\n",
    "\n",
    "# Chamada da função com paginação\n",
    "data_frame_companies_find = fetch_data_with_pagination(\n",
    "    url, build_query, fields, filters\n",
    ")\n",
    "data_frame_companies_find\n",
    "company_id = list(set(data_frame_companies_find[\"company\"].to_list()))\n",
    "company_id_list = \",\".join(map(str, company_id))"
   ]
  },
  {
   "cell_type": "code",
   "execution_count": 11,
   "metadata": {},
   "outputs": [
    {
     "data": {
      "text/html": [
       "<div>\n",
       "<style scoped>\n",
       "    .dataframe tbody tr th:only-of-type {\n",
       "        vertical-align: middle;\n",
       "    }\n",
       "\n",
       "    .dataframe tbody tr th {\n",
       "        vertical-align: top;\n",
       "    }\n",
       "\n",
       "    .dataframe thead th {\n",
       "        text-align: right;\n",
       "    }\n",
       "</style>\n",
       "<table border=\"1\" class=\"dataframe\">\n",
       "  <thead>\n",
       "    <tr style=\"text-align: right;\">\n",
       "      <th></th>\n",
       "      <th>id</th>\n",
       "      <th>company</th>\n",
       "      <th>created_at</th>\n",
       "      <th>developer</th>\n",
       "      <th>game</th>\n",
       "      <th>porting</th>\n",
       "      <th>publisher</th>\n",
       "      <th>supporting</th>\n",
       "      <th>updated_at</th>\n",
       "      <th>checksum</th>\n",
       "    </tr>\n",
       "  </thead>\n",
       "  <tbody>\n",
       "    <tr>\n",
       "      <th>0</th>\n",
       "      <td>282477</td>\n",
       "      <td>56898</td>\n",
       "      <td>1724095340</td>\n",
       "      <td>False</td>\n",
       "      <td>311813</td>\n",
       "      <td>False</td>\n",
       "      <td>True</td>\n",
       "      <td>False</td>\n",
       "      <td>1725440346</td>\n",
       "      <td>5984983f-2362-e843-9c6f-fb470096f075</td>\n",
       "    </tr>\n",
       "    <tr>\n",
       "      <th>1</th>\n",
       "      <td>280010</td>\n",
       "      <td>56898</td>\n",
       "      <td>1722892809</td>\n",
       "      <td>True</td>\n",
       "      <td>311813</td>\n",
       "      <td>False</td>\n",
       "      <td>True</td>\n",
       "      <td>False</td>\n",
       "      <td>1724095345</td>\n",
       "      <td>669cad71-e2d0-1a64-ded7-8be481766462</td>\n",
       "    </tr>\n",
       "  </tbody>\n",
       "</table>\n",
       "</div>"
      ],
      "text/plain": [
       "       id  company  created_at  developer    game  porting  publisher  \\\n",
       "0  282477    56898  1724095340      False  311813    False       True   \n",
       "1  280010    56898  1722892809       True  311813    False       True   \n",
       "\n",
       "   supporting  updated_at                              checksum  \n",
       "0       False  1725440346  5984983f-2362-e843-9c6f-fb470096f075  \n",
       "1       False  1724095345  669cad71-e2d0-1a64-ded7-8be481766462  "
      ]
     },
     "execution_count": 11,
     "metadata": {},
     "output_type": "execute_result"
    }
   ],
   "source": [
    "data_frame_companies_find"
   ]
  },
  {
   "cell_type": "code",
   "execution_count": 12,
   "metadata": {},
   "outputs": [],
   "source": [
    "import pycountry_convert as pc\n",
    "import pycountry\n",
    "\n",
    "\n",
    "def country_to_continent(country_code):\n",
    "    try:\n",
    "        # Converte o código do país para o nome do continente\n",
    "        country = pycountry.countries.get(numeric=str(country_code))\n",
    "        continent_code = pc.country_alpha2_to_continent_code(country.alpha_2)\n",
    "        continent_name = pc.convert_continent_code_to_continent_name(continent_code)\n",
    "        return continent_name\n",
    "    except:\n",
    "        return \"Unknown\"  # Retorna 'Unknown' se o código do país não for reconhecido"
   ]
  },
  {
   "cell_type": "code",
   "execution_count": 13,
   "metadata": {},
   "outputs": [],
   "source": [
    "def array_count(value):\n",
    "    if value == \"Unknown\":\n",
    "        return -1\n",
    "    else:\n",
    "        return len(value)"
   ]
  },
  {
   "cell_type": "code",
   "execution_count": 14,
   "metadata": {},
   "outputs": [],
   "source": [
    "# Exemplo de uso\n",
    "url = f\"{URL_TWITCH_BASE}/companies\"\n",
    "\n",
    "# Define os campos a serem selecionados\n",
    "fields = [\n",
    "    \"developed\",\n",
    "    \"slug\",\n",
    "    \"published\",\n",
    "    \"country\",\n",
    "    \"start_date\",\n",
    "    \"start_date_category\",\n",
    "    \"parent\",\n",
    "]\n",
    "# Define os filtros a serem aplicados\n",
    "filters = {\n",
    "    \"id\": f\"= ({company_id_list})\",\n",
    "}\n",
    "# Chamada da função com paginação\n",
    "data_frame_companies = fetch_data_with_pagination(url, build_query, fields)\n",
    "data_frame_companies[\"developed\"] = data_frame_companies[\"developed\"].fillna(\"Unknown\")\n",
    "data_frame_companies[\"published\"] = data_frame_companies[\"published\"].fillna(\"Unknown\")\n",
    "data_frame_companies[\"country\"] = data_frame_companies[\"country\"].fillna(1)\n",
    "data_frame_companies[\"country\"] = data_frame_companies[\"country\"].astype(int)\n",
    "data_frame_companies[\"games_developed\"] = data_frame_companies[\"developed\"].apply(\n",
    "    array_count\n",
    ")\n",
    "data_frame_companies[\"has_parents\"] = data_frame_companies[\"parent\"].notna().astype(int)\n",
    "data_frame_companies[\"games_published\"] = data_frame_companies[\"published\"].apply(\n",
    "    array_count\n",
    ")\n",
    "data_frame_companies[\"continent_name\"] = data_frame_companies[\"country\"].apply(\n",
    "    country_to_continent\n",
    ")\n",
    "\n",
    "data_frame_companies = data_frame_companies.drop(\n",
    "    columns=[\"developed\", \"published\", \"country\", \"parent\", \"start_date_category\"]\n",
    ")"
   ]
  },
  {
   "cell_type": "code",
   "execution_count": 15,
   "metadata": {},
   "outputs": [],
   "source": [
    "# Inner Join (default)\n",
    "companies_join = pd.merge(\n",
    "    data_frame_companies_find,\n",
    "    data_frame_companies,\n",
    "    left_on=\"company\",\n",
    "    right_on=\"id\",\n",
    "    how=\"inner\",\n",
    ")"
   ]
  },
  {
   "cell_type": "code",
   "execution_count": 16,
   "metadata": {},
   "outputs": [],
   "source": [
    "df_companies_final = companies_join[\n",
    "    [\"game\", \"games_developed\", \"has_parents\", \"games_published\", \"continent_name\"]\n",
    "]"
   ]
  },
  {
   "cell_type": "code",
   "execution_count": 41,
   "metadata": {},
   "outputs": [
    {
     "data": {
      "text/html": [
       "<div>\n",
       "<style scoped>\n",
       "    .dataframe tbody tr th:only-of-type {\n",
       "        vertical-align: middle;\n",
       "    }\n",
       "\n",
       "    .dataframe tbody tr th {\n",
       "        vertical-align: top;\n",
       "    }\n",
       "\n",
       "    .dataframe thead th {\n",
       "        text-align: right;\n",
       "    }\n",
       "</style>\n",
       "<table border=\"1\" class=\"dataframe\">\n",
       "  <thead>\n",
       "    <tr style=\"text-align: right;\">\n",
       "      <th></th>\n",
       "      <th>campaigncoop</th>\n",
       "      <th>game</th>\n",
       "      <th>lancoop</th>\n",
       "      <th>offlinecoop</th>\n",
       "      <th>offlinecoopmax</th>\n",
       "      <th>offlinemax</th>\n",
       "      <th>onlinecoop</th>\n",
       "      <th>onlinecoopmax</th>\n",
       "      <th>onlinemax</th>\n",
       "      <th>splitscreen</th>\n",
       "    </tr>\n",
       "  </thead>\n",
       "  <tbody>\n",
       "  </tbody>\n",
       "</table>\n",
       "</div>"
      ],
      "text/plain": [
       "Empty DataFrame\n",
       "Columns: [campaigncoop, game, lancoop, offlinecoop, offlinecoopmax, offlinemax, onlinecoop, onlinecoopmax, onlinemax, splitscreen]\n",
       "Index: []"
      ]
     },
     "execution_count": 41,
     "metadata": {},
     "output_type": "execute_result"
    }
   ],
   "source": [
    "# Exemplo de uso\n",
    "url = f\"{URL_TWITCH_BASE}/multiplayer_modes\"\n",
    "\n",
    "# Define os campos a serem selecionados\n",
    "fields = [\n",
    "    \"campaigncoop\",\n",
    "    \"game\",\n",
    "    \"lancoop\",\n",
    "    \"offlinecoop\",\n",
    "    \"offlinecoopmax\",\n",
    "    \"offlinemax\",\n",
    "    \"onlinecoop\",\n",
    "    \"onlinecoopmax\",\n",
    "    \"onlinemax\",\n",
    "    \"splitscreen\",\n",
    "]\n",
    "# Define os filtros a serem aplicados\n",
    "filters = {\n",
    "    \"game\": f\"= ({game_id})\",\n",
    "}\n",
    "\n",
    "# Chamada da função com paginação\n",
    "data_frame_multiplayer_modes = fetch_data_with_pagination(\n",
    "    url, build_query, fields, filters\n",
    ")\n",
    "for coluna in fields:\n",
    "    if coluna not in data_frame_multiplayer_modes.columns:\n",
    "        data_frame_multiplayer_modes[coluna] = None\n",
    "# Converte todas as colunas booleanas em 0/1\n",
    "boolean_columns = data_frame_multiplayer_modes.select_dtypes(include='bool').columns\n",
    "data_frame_multiplayer_modes[boolean_columns] = data_frame_multiplayer_modes[boolean_columns].astype(int)\n",
    "\n",
    "data_frame_multiplayer_modes"
   ]
  },
  {
   "cell_type": "code",
   "execution_count": null,
   "metadata": {},
   "outputs": [],
   "source": []
  },
  {
   "cell_type": "code",
   "execution_count": 42,
   "metadata": {},
   "outputs": [],
   "source": [
    "# Exemplo de uso\n",
    "url = f\"{URL_TWITCH_BASE}/games\"\n",
    "\n",
    "# Define os campos a serem selecionados\n",
    "fields = [\n",
    "    \"name\",\n",
    "    \"game_modes\",\n",
    "    \"genres\",\n",
    "    \"age_ratings\",\n",
    "    \"involved_companies\",\n",
    "    \"player_perspectives\",\n",
    "    \"platforms\",\n",
    "    \"rating\",\n",
    "    \"remasters\",\n",
    "]\n",
    "\n",
    "# Define os filtros a serem aplicados\n",
    "filters = {\n",
    "    \"id\": f\"= {game_id}\",\n",
    "}\n",
    "\n",
    "# Chamada da função com paginação\n",
    "data_frame_games = fetch_data_with_pagination(url, build_query, fields, filters)\n",
    "\n",
    "for coluna in fields:\n",
    "    if coluna not in data_frame_games.columns:\n",
    "        data_frame_games[coluna] = None\n",
    "\n",
    "# Trata as colunas\n",
    "data_frame_games[\"player_perspectives\"] = data_frame_games[\n",
    "    \"player_perspectives\"\n",
    "].fillna(\"Unknown\")\n",
    "data_frame_games[\"game_modes\"] = data_frame_games[\"game_modes\"].fillna(\"unknown_game_mode\")\n",
    "data_frame_games[\"genres\"] = data_frame_games[\"genres\"].fillna(\"unknown_genres_name\")\n",
    "data_frame_games[\"player_perspective_name\"] = (\n",
    "    data_frame_games[\"player_perspectives\"]\n",
    "    .map(lambda x: [player_perspectives_mapping.get(i, \"unknown_player_perspectives\") for i in x])\n",
    "    .apply(lambda x: list(set(x)))\n",
    ")\n",
    "data_frame_games[\"platforms_name\"] = (\n",
    "    data_frame_games[\"platforms\"]\n",
    "    .map(lambda x: [plataform_mapping.get(i, \"unknown_platforms_name\") for i in x])\n",
    "    .apply(lambda x: list(set(x)))\n",
    ")\n",
    "data_frame_games[\"genres_first\"] = (\n",
    "    data_frame_games[\"genres\"]\n",
    "    .map(lambda x: [genres_mapping.get(i, \"unknown_genres_name\") for i in x])\n",
    "    .apply(lambda x: list(set(x))).apply(lambda x: x[0])\n",
    ")\n",
    "data_frame_games[\"game_modes_name\"] = (\n",
    "    data_frame_games[\"game_modes\"]\n",
    "    .map(lambda x: [game_modes_mapping.get(i, \"unknown_game_mode\") for i in x])\n",
    "    .apply(lambda x: list(set(x)))\n",
    ")\n",
    "data_frame_games[\"has_remaster\"] = data_frame_games[\"remasters\"].notna()\n",
    "\n",
    "data_frame_games[\"target\"] = np.where(data_frame_games[\"rating\"].isna(),0,1)\n",
    "\n",
    "\n",
    "data_frame_games = data_frame_games.drop(\n",
    "    columns=[\n",
    "        \"game_modes\",\n",
    "        \"player_perspectives\",\n",
    "        \"remasters\",\n",
    "        \"genres\",\n",
    "        \"platforms\",\n",
    "        \"involved_companies\",\n",
    "        \"rating\",\n",
    "        \n",
    "    ]\n",
    ")\n"
   ]
  },
  {
   "cell_type": "code",
   "execution_count": 43,
   "metadata": {},
   "outputs": [
    {
     "data": {
      "text/html": [
       "<div>\n",
       "<style scoped>\n",
       "    .dataframe tbody tr th:only-of-type {\n",
       "        vertical-align: middle;\n",
       "    }\n",
       "\n",
       "    .dataframe tbody tr th {\n",
       "        vertical-align: top;\n",
       "    }\n",
       "\n",
       "    .dataframe thead th {\n",
       "        text-align: right;\n",
       "    }\n",
       "</style>\n",
       "<table border=\"1\" class=\"dataframe\">\n",
       "  <thead>\n",
       "    <tr style=\"text-align: right;\">\n",
       "      <th></th>\n",
       "      <th>id</th>\n",
       "      <th>name</th>\n",
       "      <th>age_ratings</th>\n",
       "      <th>player_perspective_name</th>\n",
       "      <th>platforms_name</th>\n",
       "      <th>genres_first</th>\n",
       "      <th>game_modes_name</th>\n",
       "      <th>has_remaster</th>\n",
       "      <th>target</th>\n",
       "    </tr>\n",
       "  </thead>\n",
       "  <tbody>\n",
       "    <tr>\n",
       "      <th>0</th>\n",
       "      <td>311813</td>\n",
       "      <td>Waifu Quest 2</td>\n",
       "      <td>None</td>\n",
       "      <td>[bird-view-slash-isometric]</td>\n",
       "      <td>[pc]</td>\n",
       "      <td>point-and-click</td>\n",
       "      <td>[single-player]</td>\n",
       "      <td>False</td>\n",
       "      <td>0</td>\n",
       "    </tr>\n",
       "  </tbody>\n",
       "</table>\n",
       "</div>"
      ],
      "text/plain": [
       "       id           name age_ratings      player_perspective_name  \\\n",
       "0  311813  Waifu Quest 2        None  [bird-view-slash-isometric]   \n",
       "\n",
       "  platforms_name     genres_first  game_modes_name  has_remaster  target  \n",
       "0           [pc]  point-and-click  [single-player]         False       0  "
      ]
     },
     "execution_count": 43,
     "metadata": {},
     "output_type": "execute_result"
    }
   ],
   "source": [
    "data_frame_games"
   ]
  },
  {
   "cell_type": "code",
   "execution_count": 45,
   "metadata": {},
   "outputs": [],
   "source": [
    "def age_classif(list):\n",
    "    url = f\"{URL_TWITCH_BASE}/age_ratings\"\n",
    "\n",
    "    try:\n",
    "        lista_query = \",\".join(map(str, list))\n",
    "        # Define os campos a serem selecionados\n",
    "        fields = [\"rating\"]\n",
    "\n",
    "        filters = {\n",
    "            \"id\": f\"= ({lista_query})\",\n",
    "        }\n",
    "        # Chamada da função com paginação\n",
    "        data_frame = fetch_data_with_pagination(url, build_query, fields, filters)\n",
    "        # # Exemplo de uso no DataFrame\n",
    "        data_frame[\"age_rating_group\"] = data_frame[\"rating\"].map(age_rating_mapping)\n",
    "        # Convertendo a coluna 'age_rating_group' para essa ordem\n",
    "        data_frame[\"age_rating_group\"] = data_frame[\"age_rating_group\"].astype(\n",
    "            age_order\n",
    "        )\n",
    "        # Pegar o maior valor de 'age_rating_group'\n",
    "        max_age_rating_group = data_frame[\"age_rating_group\"].max()\n",
    "        return max_age_rating_group\n",
    "    except:\n",
    "        return \"No Rating\""
   ]
  },
  {
   "cell_type": "code",
   "execution_count": 46,
   "metadata": {},
   "outputs": [],
   "source": [
    "data_frame_games[\"age_classif\"] = data_frame_games[\"age_ratings\"].apply(age_classif).drop(columns=[\"age_ratings\",])"
   ]
  },
  {
   "cell_type": "code",
   "execution_count": 47,
   "metadata": {},
   "outputs": [],
   "source": [
    "data_frame_games =  data_frame_games.drop(columns=[\"age_ratings\"])\n"
   ]
  },
  {
   "cell_type": "code",
   "execution_count": 49,
   "metadata": {},
   "outputs": [
    {
     "data": {
      "text/html": [
       "<div>\n",
       "<style scoped>\n",
       "    .dataframe tbody tr th:only-of-type {\n",
       "        vertical-align: middle;\n",
       "    }\n",
       "\n",
       "    .dataframe tbody tr th {\n",
       "        vertical-align: top;\n",
       "    }\n",
       "\n",
       "    .dataframe thead th {\n",
       "        text-align: right;\n",
       "    }\n",
       "</style>\n",
       "<table border=\"1\" class=\"dataframe\">\n",
       "  <thead>\n",
       "    <tr style=\"text-align: right;\">\n",
       "      <th></th>\n",
       "      <th>campaigncoop</th>\n",
       "      <th>game</th>\n",
       "      <th>lancoop</th>\n",
       "      <th>offlinecoop</th>\n",
       "      <th>offlinecoopmax</th>\n",
       "      <th>offlinemax</th>\n",
       "      <th>onlinecoop</th>\n",
       "      <th>onlinecoopmax</th>\n",
       "      <th>onlinemax</th>\n",
       "      <th>splitscreen</th>\n",
       "    </tr>\n",
       "  </thead>\n",
       "  <tbody>\n",
       "  </tbody>\n",
       "</table>\n",
       "</div>"
      ],
      "text/plain": [
       "Empty DataFrame\n",
       "Columns: [campaigncoop, game, lancoop, offlinecoop, offlinecoopmax, offlinemax, onlinecoop, onlinecoopmax, onlinemax, splitscreen]\n",
       "Index: []"
      ]
     },
     "execution_count": 49,
     "metadata": {},
     "output_type": "execute_result"
    }
   ],
   "source": [
    "data_frame_games_find[[\"game\", \"region_name\",]]"
   ]
  },
  {
   "cell_type": "code",
   "execution_count": 50,
   "metadata": {},
   "outputs": [
    {
     "data": {
      "text/html": [
       "<div>\n",
       "<style scoped>\n",
       "    .dataframe tbody tr th:only-of-type {\n",
       "        vertical-align: middle;\n",
       "    }\n",
       "\n",
       "    .dataframe tbody tr th {\n",
       "        vertical-align: top;\n",
       "    }\n",
       "\n",
       "    .dataframe thead th {\n",
       "        text-align: right;\n",
       "    }\n",
       "</style>\n",
       "<table border=\"1\" class=\"dataframe\">\n",
       "  <thead>\n",
       "    <tr style=\"text-align: right;\">\n",
       "      <th></th>\n",
       "      <th>id</th>\n",
       "      <th>category</th>\n",
       "      <th>created_at</th>\n",
       "      <th>date</th>\n",
       "      <th>game</th>\n",
       "      <th>human</th>\n",
       "      <th>platform</th>\n",
       "      <th>region</th>\n",
       "      <th>updated_at</th>\n",
       "      <th>y</th>\n",
       "      <th>status</th>\n",
       "      <th>region_name</th>\n",
       "    </tr>\n",
       "  </thead>\n",
       "  <tbody>\n",
       "    <tr>\n",
       "      <th>0</th>\n",
       "      <td>625014</td>\n",
       "      <td>0</td>\n",
       "      <td>1722727200</td>\n",
       "      <td>1722816000</td>\n",
       "      <td>311813</td>\n",
       "      <td>Aug 05, 2024</td>\n",
       "      <td>6</td>\n",
       "      <td>8</td>\n",
       "      <td>1724095345</td>\n",
       "      <td>2024</td>\n",
       "      <td>6</td>\n",
       "      <td>worldwide</td>\n",
       "    </tr>\n",
       "  </tbody>\n",
       "</table>\n",
       "</div>"
      ],
      "text/plain": [
       "       id  category  created_at        date    game         human  platform  \\\n",
       "0  625014         0  1722727200  1722816000  311813  Aug 05, 2024         6   \n",
       "\n",
       "   region  updated_at     y  status region_name  \n",
       "0       8  1724095345  2024       6   worldwide  "
      ]
     },
     "execution_count": 50,
     "metadata": {},
     "output_type": "execute_result"
    }
   ],
   "source": [
    "data_frame_games_find.drop_duplicates(subset=\"game\")"
   ]
  },
  {
   "cell_type": "code",
   "execution_count": 51,
   "metadata": {},
   "outputs": [
    {
     "data": {
      "text/html": [
       "<div>\n",
       "<style scoped>\n",
       "    .dataframe tbody tr th:only-of-type {\n",
       "        vertical-align: middle;\n",
       "    }\n",
       "\n",
       "    .dataframe tbody tr th {\n",
       "        vertical-align: top;\n",
       "    }\n",
       "\n",
       "    .dataframe thead th {\n",
       "        text-align: right;\n",
       "    }\n",
       "</style>\n",
       "<table border=\"1\" class=\"dataframe\">\n",
       "  <thead>\n",
       "    <tr style=\"text-align: right;\">\n",
       "      <th></th>\n",
       "      <th>game</th>\n",
       "      <th>games_developed</th>\n",
       "      <th>has_parents</th>\n",
       "      <th>games_published</th>\n",
       "      <th>continent_name</th>\n",
       "      <th>region_name</th>\n",
       "    </tr>\n",
       "  </thead>\n",
       "  <tbody>\n",
       "    <tr>\n",
       "      <th>0</th>\n",
       "      <td>311813</td>\n",
       "      <td>1</td>\n",
       "      <td>0</td>\n",
       "      <td>1</td>\n",
       "      <td>Unknown</td>\n",
       "      <td>worldwide</td>\n",
       "    </tr>\n",
       "    <tr>\n",
       "      <th>1</th>\n",
       "      <td>311813</td>\n",
       "      <td>1</td>\n",
       "      <td>0</td>\n",
       "      <td>1</td>\n",
       "      <td>Unknown</td>\n",
       "      <td>worldwide</td>\n",
       "    </tr>\n",
       "  </tbody>\n",
       "</table>\n",
       "</div>"
      ],
      "text/plain": [
       "     game  games_developed  has_parents  games_published continent_name  \\\n",
       "0  311813                1            0                1        Unknown   \n",
       "1  311813                1            0                1        Unknown   \n",
       "\n",
       "  region_name  \n",
       "0   worldwide  \n",
       "1   worldwide  "
      ]
     },
     "execution_count": 51,
     "metadata": {},
     "output_type": "execute_result"
    }
   ],
   "source": [
    "df_companies_games = pd.merge(\n",
    "    df_companies_final,\n",
    "    data_frame_games_find[[\"game\", \"region_name\",]].drop_duplicates(subset=\"game\"),\n",
    "    on=\"game\",\n",
    "    how=\"inner\",\n",
    ")"
   ]
  },
  {
   "cell_type": "code",
   "execution_count": 54,
   "metadata": {},
   "outputs": [
    {
     "data": {
      "text/html": [
       "<div>\n",
       "<style scoped>\n",
       "    .dataframe tbody tr th:only-of-type {\n",
       "        vertical-align: middle;\n",
       "    }\n",
       "\n",
       "    .dataframe tbody tr th {\n",
       "        vertical-align: top;\n",
       "    }\n",
       "\n",
       "    .dataframe thead th {\n",
       "        text-align: right;\n",
       "    }\n",
       "</style>\n",
       "<table border=\"1\" class=\"dataframe\">\n",
       "  <thead>\n",
       "    <tr style=\"text-align: right;\">\n",
       "      <th></th>\n",
       "      <th>game</th>\n",
       "      <th>games_developed</th>\n",
       "      <th>has_parents</th>\n",
       "      <th>games_published</th>\n",
       "      <th>continent_name</th>\n",
       "      <th>region_name</th>\n",
       "      <th>onlinecoop</th>\n",
       "      <th>onlinecoopmax</th>\n",
       "      <th>onlinemax</th>\n",
       "      <th>splitscreen</th>\n",
       "    </tr>\n",
       "  </thead>\n",
       "  <tbody>\n",
       "    <tr>\n",
       "      <th>0</th>\n",
       "      <td>311813</td>\n",
       "      <td>1</td>\n",
       "      <td>0</td>\n",
       "      <td>1</td>\n",
       "      <td>Unknown</td>\n",
       "      <td>worldwide</td>\n",
       "      <td>NaN</td>\n",
       "      <td>NaN</td>\n",
       "      <td>NaN</td>\n",
       "      <td>NaN</td>\n",
       "    </tr>\n",
       "  </tbody>\n",
       "</table>\n",
       "</div>"
      ],
      "text/plain": [
       "     game  games_developed  has_parents  games_published continent_name  \\\n",
       "0  311813                1            0                1        Unknown   \n",
       "\n",
       "  region_name onlinecoop onlinecoopmax onlinemax splitscreen  \n",
       "0   worldwide        NaN           NaN       NaN         NaN  "
      ]
     },
     "execution_count": 54,
     "metadata": {},
     "output_type": "execute_result"
    }
   ],
   "source": [
    "df_companies_games_multiplayer = pd.merge(\n",
    "    df_companies_games.drop_duplicates(subset=\"game\"),\n",
    "    data_frame_multiplayer_modes[\n",
    "        [\"game\", \"onlinecoop\", \"onlinecoopmax\", \"onlinemax\", \"splitscreen\"]\n",
    "    ],\n",
    "    on=\"game\",\n",
    "    how=\"left\",\n",
    ")"
   ]
  },
  {
   "cell_type": "code",
   "execution_count": null,
   "metadata": {},
   "outputs": [],
   "source": []
  },
  {
   "cell_type": "code",
   "execution_count": 55,
   "metadata": {},
   "outputs": [
    {
     "data": {
      "text/html": [
       "<div>\n",
       "<style scoped>\n",
       "    .dataframe tbody tr th:only-of-type {\n",
       "        vertical-align: middle;\n",
       "    }\n",
       "\n",
       "    .dataframe tbody tr th {\n",
       "        vertical-align: top;\n",
       "    }\n",
       "\n",
       "    .dataframe thead th {\n",
       "        text-align: right;\n",
       "    }\n",
       "</style>\n",
       "<table border=\"1\" class=\"dataframe\">\n",
       "  <thead>\n",
       "    <tr style=\"text-align: right;\">\n",
       "      <th></th>\n",
       "      <th>game</th>\n",
       "      <th>onlinecoop</th>\n",
       "      <th>onlinecoopmax</th>\n",
       "      <th>onlinemax</th>\n",
       "      <th>splitscreen</th>\n",
       "    </tr>\n",
       "  </thead>\n",
       "  <tbody>\n",
       "  </tbody>\n",
       "</table>\n",
       "</div>"
      ],
      "text/plain": [
       "Empty DataFrame\n",
       "Columns: [game, onlinecoop, onlinecoopmax, onlinemax, splitscreen]\n",
       "Index: []"
      ]
     },
     "execution_count": 55,
     "metadata": {},
     "output_type": "execute_result"
    }
   ],
   "source": [
    "data_frame_multiplayer_modes[\n",
    "    [\"game\", \"onlinecoop\", \"onlinecoopmax\", \"onlinemax\", \"splitscreen\"]\n",
    "]"
   ]
  },
  {
   "cell_type": "code",
   "execution_count": 56,
   "metadata": {},
   "outputs": [],
   "source": [
    "df_join = pd.merge(\n",
    "    data_frame_games,\n",
    "    df_companies_games_multiplayer,\n",
    "    left_on=\"id\",\n",
    "    right_on=\"game\",\n",
    "    how=\"left\",\n",
    ").drop(columns=['game']).drop_duplicates(subset=\"id\")"
   ]
  },
  {
   "cell_type": "code",
   "execution_count": 57,
   "metadata": {},
   "outputs": [],
   "source": [
    "# Explode as listas de 'attributes' para transformar cada elemento em uma linha separada\n",
    "df_exploded = df_join[['id',\"platforms_name\"]].explode('platforms_name')\n",
    "\n",
    "# Converte a coluna 'attributes' em colunas de dummies, com prefixo para evitar conflitos\n",
    "dummies = pd.get_dummies(df_exploded['platforms_name'].str.replace('-', '_'))\n",
    "\n",
    "# Agrupa por 'id' e faz a soma para agrupar as flags 0/1\n",
    "dummies = dummies.groupby(df_exploded['id']).sum().reset_index()\n",
    "\n",
    "# Junte os dummies ao DataFrame original\n",
    "df_join = df_join.drop(columns=['platforms_name']).merge(dummies, on='id')\n"
   ]
  },
  {
   "cell_type": "code",
   "execution_count": 58,
   "metadata": {},
   "outputs": [],
   "source": [
    "# Explode as listas de 'attributes' para transformar cada elemento em uma linha separada\n",
    "df_exploded = df_join[['id',\"game_modes_name\"]].explode('game_modes_name')\n",
    "\n",
    "# Converte a coluna 'attributes' em colunas de dummies, com prefixo para evitar conflitos\n",
    "dummies = pd.get_dummies(df_exploded['game_modes_name'].str.replace('-', '_'))\n",
    "\n",
    "# Agrupa por 'id' e faz a soma para agrupar as flags 0/1\n",
    "dummies = dummies.groupby(df_exploded['id']).sum().reset_index()\n",
    "\n",
    "# Junte os dummies ao DataFrame original\n",
    "df_join = df_join.drop(columns=['game_modes_name']).merge(dummies, on='id')\n"
   ]
  },
  {
   "cell_type": "code",
   "execution_count": 59,
   "metadata": {},
   "outputs": [],
   "source": [
    "# Explode as listas de 'attributes' para transformar cada elemento em uma linha separada\n",
    "df_exploded = df_join[['id',\"player_perspective_name\"]].explode('player_perspective_name')\n",
    "\n",
    "# Converte a coluna 'attributes' em colunas de dummies, com prefixo para evitar conflitos\n",
    "dummies = pd.get_dummies(df_exploded['player_perspective_name'].str.replace('-', '_'))\n",
    "\n",
    "# Agrupa por 'id' e faz a soma para agrupar as flags 0/1\n",
    "dummies = dummies.groupby(df_exploded['id']).sum().reset_index()\n",
    "\n",
    "# Junte os dummies ao DataFrame original\n",
    "df_join = df_join.drop(columns=['player_perspective_name']).merge(dummies, on='id')\n"
   ]
  },
  {
   "cell_type": "code",
   "execution_count": 60,
   "metadata": {},
   "outputs": [],
   "source": [
    "# Converte todas as colunas booleanas em 0/1\n",
    "boolean_columns = df_join.select_dtypes(include='bool').columns\n",
    "df_join[boolean_columns] = df_join[boolean_columns].astype(int)\n"
   ]
  },
  {
   "cell_type": "code",
   "execution_count": 61,
   "metadata": {},
   "outputs": [],
   "source": [
    "import numpy as np"
   ]
  },
  {
   "cell_type": "code",
   "execution_count": 62,
   "metadata": {},
   "outputs": [],
   "source": [
    "df_join['has_global_launch'] = np.where(df_join['region_name'] == 'worldwide',1,0)"
   ]
  },
  {
   "cell_type": "code",
   "execution_count": 63,
   "metadata": {},
   "outputs": [],
   "source": [
    "df_join = df_join.drop(columns=['region_name'])"
   ]
  },
  {
   "cell_type": "code",
   "execution_count": 64,
   "metadata": {},
   "outputs": [
    {
     "data": {
      "text/html": [
       "<div>\n",
       "<style scoped>\n",
       "    .dataframe tbody tr th:only-of-type {\n",
       "        vertical-align: middle;\n",
       "    }\n",
       "\n",
       "    .dataframe tbody tr th {\n",
       "        vertical-align: top;\n",
       "    }\n",
       "\n",
       "    .dataframe thead th {\n",
       "        text-align: right;\n",
       "    }\n",
       "</style>\n",
       "<table border=\"1\" class=\"dataframe\">\n",
       "  <thead>\n",
       "    <tr style=\"text-align: right;\">\n",
       "      <th></th>\n",
       "      <th>id</th>\n",
       "      <th>name</th>\n",
       "      <th>genres_first</th>\n",
       "      <th>has_remaster</th>\n",
       "      <th>target</th>\n",
       "      <th>age_classif</th>\n",
       "      <th>games_developed</th>\n",
       "      <th>has_parents</th>\n",
       "      <th>games_published</th>\n",
       "      <th>continent_name</th>\n",
       "      <th>onlinecoop</th>\n",
       "      <th>onlinecoopmax</th>\n",
       "      <th>onlinemax</th>\n",
       "      <th>splitscreen</th>\n",
       "      <th>pc</th>\n",
       "      <th>single_player</th>\n",
       "      <th>bird_view_slash_isometric</th>\n",
       "      <th>has_global_launch</th>\n",
       "    </tr>\n",
       "  </thead>\n",
       "  <tbody>\n",
       "    <tr>\n",
       "      <th>0</th>\n",
       "      <td>311813</td>\n",
       "      <td>Waifu Quest 2</td>\n",
       "      <td>point-and-click</td>\n",
       "      <td>0</td>\n",
       "      <td>0</td>\n",
       "      <td>No Rating</td>\n",
       "      <td>1</td>\n",
       "      <td>0</td>\n",
       "      <td>1</td>\n",
       "      <td>Unknown</td>\n",
       "      <td>NaN</td>\n",
       "      <td>NaN</td>\n",
       "      <td>NaN</td>\n",
       "      <td>NaN</td>\n",
       "      <td>1</td>\n",
       "      <td>1</td>\n",
       "      <td>1</td>\n",
       "      <td>1</td>\n",
       "    </tr>\n",
       "  </tbody>\n",
       "</table>\n",
       "</div>"
      ],
      "text/plain": [
       "       id           name     genres_first  has_remaster  target age_classif  \\\n",
       "0  311813  Waifu Quest 2  point-and-click             0       0   No Rating   \n",
       "\n",
       "   games_developed  has_parents  games_published continent_name onlinecoop  \\\n",
       "0                1            0                1        Unknown        NaN   \n",
       "\n",
       "  onlinecoopmax onlinemax splitscreen  pc  single_player  \\\n",
       "0           NaN       NaN         NaN   1              1   \n",
       "\n",
       "   bird_view_slash_isometric  has_global_launch  \n",
       "0                          1                  1  "
      ]
     },
     "execution_count": 64,
     "metadata": {},
     "output_type": "execute_result"
    }
   ],
   "source": [
    "df_join"
   ]
  },
  {
   "cell_type": "code",
   "execution_count": null,
   "metadata": {},
   "outputs": [],
   "source": []
  }
 ],
 "metadata": {
  "kernelspec": {
   "display_name": "venv_twitch",
   "language": "python",
   "name": "python3"
  },
  "language_info": {
   "codemirror_mode": {
    "name": "ipython",
    "version": 3
   },
   "file_extension": ".py",
   "mimetype": "text/x-python",
   "name": "python",
   "nbconvert_exporter": "python",
   "pygments_lexer": "ipython3",
   "version": "3.12.4"
  }
 },
 "nbformat": 4,
 "nbformat_minor": 2
}
